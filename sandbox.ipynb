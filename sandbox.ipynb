{
 "cells": [
  {
   "cell_type": "code",
   "execution_count": 3,
   "metadata": {
    "collapsed": true
   },
   "outputs": [],
   "source": [
    "# Package imports\n",
    "import numpy as np\n",
    "import pandas as pd\n",
    "import matplotlib as mpl\n",
    "import seaborn as sns \n",
    "import matplotlib.pyplot as plt\n",
    "%matplotlib inline\n"
   ]
  },
  {
   "cell_type": "code",
   "execution_count": 4,
   "metadata": {},
   "outputs": [],
   "source": [
    "SAMPLE_SET_SIZE = 200;\n",
    "\n",
    "mu = [0, 1, 0, 1]\n",
    "variance = [1, 2, 1, 2]\n",
    "uniform_rands = [np.zeros(4)]*4\n",
    "\n",
    "for i in range(4):\n",
    "    uniform_rands[i] = np.random.normal(mu[i], variance[i], int(SAMPLE_SET_SIZE/2)) \n",
    "\n",
    "    \n",
    "headers = \"x1 x2 class\".split()\n",
    "class1 = pd.DataFrame({'x1': uniform_rands[0], 'x2': uniform_rands[2], \n",
    "                      'class': 'w1'}, columns=headers)\n",
    "class2 = pd.DataFrame({'x1': uniform_rands[1], 'x2': uniform_rands[3], \n",
    "                      'class': 'w2'}, columns=headers)\n",
    "class2.index=class2.index+int(SAMPLE_SET_SIZE/2)\n",
    "\n",
    "sample_set = pd.concat([class1, class2])"
   ]
  },
  {
   "cell_type": "code",
   "execution_count": 5,
   "metadata": {
    "collapsed": true
   },
   "outputs": [],
   "source": [
    "# Replace the class string with integer values (1 for class omega_1 and -1 for class omega_2)\n",
    "training_set = pd.DataFrame.copy(sample_set)\n",
    "training_set['class'] = training_set['class'].replace('w1', 1)\n",
    "training_set['class'] = training_set['class'].replace('w2', -1)\n"
   ]
  },
  {
   "cell_type": "code",
   "execution_count": 31,
   "metadata": {},
   "outputs": [
    {
     "data": {
      "text/plain": [
       "array([[ 0.4862196 , -0.28539222],\n",
       "       [ 0.65550285,  1.67013731],\n",
       "       [ 0.37466748, -0.33551759],\n",
       "       [-0.01747281, -0.44822855],\n",
       "       [-1.20475981,  0.57842341],\n",
       "       [-0.85104578,  0.52867731],\n",
       "       [-0.212203  , -0.28437805],\n",
       "       [-0.03629869,  0.31774676],\n",
       "       [ 0.76450347, -0.8139443 ],\n",
       "       [ 0.29402399, -2.33593927],\n",
       "       [ 1.62425196,  0.15311834],\n",
       "       [ 0.59116353,  0.46168645],\n",
       "       [-0.01401038, -0.75345391],\n",
       "       [-0.99048355,  0.09906565],\n",
       "       [-1.03729473, -0.68748866],\n",
       "       [ 0.30908245, -0.45535758],\n",
       "       [ 1.1576872 , -0.32662193],\n",
       "       [ 0.06936977, -0.52203702],\n",
       "       [ 0.13878652,  0.80574204],\n",
       "       [ 0.26621069,  0.44435543],\n",
       "       [-1.90945016,  2.20971903],\n",
       "       [-1.3104824 , -1.84125577],\n",
       "       [-0.48161478,  0.10632778],\n",
       "       [-0.88469236,  0.40848978],\n",
       "       [ 1.6211421 ,  1.04978808],\n",
       "       [-1.11177545, -0.31375059],\n",
       "       [ 1.26380487, -0.82104383],\n",
       "       [ 1.08723883, -0.20797283],\n",
       "       [-0.37438329, -0.33689998],\n",
       "       [ 2.11663938, -0.22313015],\n",
       "       [-0.20785979, -0.43846118],\n",
       "       [-1.33969517,  0.34157594],\n",
       "       [-2.34039321, -0.54697429],\n",
       "       [ 0.04595073, -1.82928193],\n",
       "       [ 0.05066616, -0.34657375],\n",
       "       [-0.1840441 , -1.3268445 ],\n",
       "       [-1.52666708,  0.2393352 ],\n",
       "       [-1.07925876, -0.06697446],\n",
       "       [-0.84489057,  0.69519916],\n",
       "       [ 0.07408627, -0.86399025],\n",
       "       [ 2.06929358,  0.24226626],\n",
       "       [-1.28199567, -0.13973087],\n",
       "       [-0.80087023,  1.1406092 ],\n",
       "       [ 0.09752255, -0.45771908],\n",
       "       [ 0.69827945,  0.23516198],\n",
       "       [-0.16124926,  1.746316  ],\n",
       "       [-1.94967564, -0.30339978],\n",
       "       [-1.90284768, -0.09282877],\n",
       "       [-0.3557812 , -2.70660754],\n",
       "       [ 1.22556447, -0.48108137],\n",
       "       [-0.74506111,  2.14250816],\n",
       "       [-0.31832765,  0.88191358],\n",
       "       [ 0.28903673,  0.60060884],\n",
       "       [ 1.76997612,  0.13181554],\n",
       "       [-1.08365536,  0.75594949],\n",
       "       [ 0.10171081, -1.06058635],\n",
       "       [-1.77434818, -0.14852176],\n",
       "       [ 0.17877019,  0.31631771],\n",
       "       [-1.84099524, -0.24058662],\n",
       "       [ 1.90531295, -0.45378683],\n",
       "       [-0.5071302 , -0.02108809],\n",
       "       [-0.31580383, -1.06204404],\n",
       "       [-1.06685551, -0.06202558],\n",
       "       [ 1.05115671,  0.50780866],\n",
       "       [-1.48391421,  1.1282198 ],\n",
       "       [-0.76748393,  1.86885566],\n",
       "       [ 0.2001646 , -1.67260134],\n",
       "       [-1.2557041 ,  1.3503861 ],\n",
       "       [-0.43569626,  0.44854795],\n",
       "       [-0.14655823,  0.32208113],\n",
       "       [ 0.73987905,  1.06006975],\n",
       "       [ 0.66195682, -2.38404522],\n",
       "       [-0.52748357, -1.63504888],\n",
       "       [ 1.16061155,  0.11330222],\n",
       "       [ 1.18253705, -1.73950208],\n",
       "       [ 0.778687  , -0.01805194],\n",
       "       [ 0.74824698, -0.51473691],\n",
       "       [ 0.09594672, -0.96910742],\n",
       "       [ 0.1746574 ,  0.43645834],\n",
       "       [ 0.7650336 ,  0.21698869],\n",
       "       [ 0.39466913,  1.09233895],\n",
       "       [ 1.24884846, -0.53449792],\n",
       "       [-1.92444282,  2.03842801],\n",
       "       [-1.34957342,  0.6251506 ],\n",
       "       [ 1.67514305, -0.83897102],\n",
       "       [-0.17517135, -0.24780029],\n",
       "       [-0.99475347,  0.30783752],\n",
       "       [ 2.87219769, -0.98442122],\n",
       "       [-0.69232192, -0.68245645],\n",
       "       [ 1.42359549,  0.91423692],\n",
       "       [ 0.52458052, -0.31511177],\n",
       "       [ 1.0679072 ,  0.66745769],\n",
       "       [-0.84906054,  0.54073212],\n",
       "       [ 0.09768784,  0.77537115],\n",
       "       [-1.22493881,  0.47165218],\n",
       "       [-1.11802623,  0.25490016],\n",
       "       [ 0.27854208, -1.82488976],\n",
       "       [ 0.96888406,  0.13502885],\n",
       "       [ 1.51323127,  0.58907709],\n",
       "       [-1.29094887, -0.7979876 ],\n",
       "       [ 0.02099663,  0.36356855],\n",
       "       [ 4.57574616,  3.33462294],\n",
       "       [ 1.54105679,  2.90279894],\n",
       "       [ 2.65417155, -1.67203122],\n",
       "       [ 2.7649112 ,  0.81914054],\n",
       "       [ 0.04327313,  2.70292499],\n",
       "       [-2.45399703,  2.6158011 ],\n",
       "       [-1.40577266, -0.2556157 ],\n",
       "       [ 2.32720743,  0.91471913],\n",
       "       [-0.26606022,  0.78523009],\n",
       "       [ 1.89308635,  0.60457624],\n",
       "       [ 4.18948947,  3.17608403],\n",
       "       [ 0.82688667,  3.19679496],\n",
       "       [ 0.03310583,  1.71086148],\n",
       "       [ 3.79549168,  1.93270691],\n",
       "       [-1.5575454 ,  5.74943951],\n",
       "       [ 1.68192105,  0.69398944],\n",
       "       [ 0.82487968,  1.12311197],\n",
       "       [-3.11325377, -3.88700434],\n",
       "       [-0.87415093,  3.95362935],\n",
       "       [ 1.10271717, -1.25943207],\n",
       "       [ 1.45980065,  3.69711451],\n",
       "       [-2.53314832, -0.60793427],\n",
       "       [-0.24859937, -0.10185364],\n",
       "       [ 1.00766563,  0.65656418],\n",
       "       [ 5.07354721, -1.22330136],\n",
       "       [-0.09808931, -0.1072248 ],\n",
       "       [ 0.6053197 ,  2.24910893],\n",
       "       [ 1.07877438, -2.11818332],\n",
       "       [ 2.2966204 , -0.57517797],\n",
       "       [ 1.9266119 ,  4.269718  ],\n",
       "       [ 1.86382448, -0.41693821],\n",
       "       [ 0.82406784,  0.68393528],\n",
       "       [ 0.984089  , -0.06465635],\n",
       "       [-0.21865604,  4.3577451 ],\n",
       "       [ 0.97370012,  2.47787209],\n",
       "       [-0.29207455, -0.33557685],\n",
       "       [ 2.82673158,  3.44413106],\n",
       "       [-1.21312891, -0.2659803 ],\n",
       "       [-1.16147009, -1.85911209],\n",
       "       [ 3.99728252,  1.7255943 ],\n",
       "       [ 4.4602311 ,  1.85130821],\n",
       "       [-1.67601117, -1.98866144],\n",
       "       [ 0.93755142,  2.70459749],\n",
       "       [-2.53454811, -0.92033492],\n",
       "       [-1.22458062, -0.77860911],\n",
       "       [ 0.53297628,  1.51544202],\n",
       "       [ 0.05503931, -1.59436606],\n",
       "       [-1.88129045,  5.32324672],\n",
       "       [ 4.95749135, -1.00365916],\n",
       "       [-0.45432952, -0.54113737],\n",
       "       [ 1.60826093,  1.43796882],\n",
       "       [ 0.50605568,  0.09244282],\n",
       "       [ 1.74933122,  1.08029605],\n",
       "       [-2.38421905,  2.52638165],\n",
       "       [ 0.71331171, -3.20796238],\n",
       "       [ 0.43694008,  2.57285198],\n",
       "       [-0.01823237, -0.02767661],\n",
       "       [ 0.57609123,  1.55389896],\n",
       "       [ 1.83211914,  0.6505647 ],\n",
       "       [ 2.02651184, -1.0764267 ],\n",
       "       [ 0.41779162,  2.43915143],\n",
       "       [-2.67340324, -1.23065657],\n",
       "       [ 3.17976725,  1.2210143 ],\n",
       "       [ 0.49948478, -1.83634329],\n",
       "       [ 0.74323625,  1.79284986],\n",
       "       [ 2.87703486, -2.50320117],\n",
       "       [ 3.80643058,  2.54623813],\n",
       "       [ 1.72905774, -1.88126997],\n",
       "       [-3.1109936 ,  0.77539484],\n",
       "       [ 1.05275251, -0.92718068],\n",
       "       [ 1.78309572, -0.25319438],\n",
       "       [-0.07738783,  2.88352821],\n",
       "       [ 1.08715771, -1.52782635],\n",
       "       [-1.09154006, -2.29441718],\n",
       "       [ 1.8406948 ,  1.74357815],\n",
       "       [ 1.55427974,  1.899681  ],\n",
       "       [-3.14788055,  0.32348891],\n",
       "       [ 0.82271708,  3.48173132],\n",
       "       [-2.65024585,  4.39506487],\n",
       "       [ 0.39879812, -1.95136494],\n",
       "       [ 0.96796425,  2.31565783],\n",
       "       [-0.84532226,  2.14437401],\n",
       "       [ 0.83746518,  2.30842402],\n",
       "       [ 0.11965525, -1.76503902],\n",
       "       [-1.09968012, -1.78570683],\n",
       "       [ 1.33123104, -1.44403546],\n",
       "       [ 1.51768732,  0.98809455],\n",
       "       [ 2.75650792,  2.05261763],\n",
       "       [-1.55061997,  1.6675658 ],\n",
       "       [-0.64307598,  0.98399492],\n",
       "       [ 1.63141346,  0.63930267],\n",
       "       [ 1.07330524,  3.22053619],\n",
       "       [ 2.08782493,  5.70415629],\n",
       "       [-1.70246645, -0.22520847],\n",
       "       [ 5.4354008 , -0.34655028],\n",
       "       [ 2.72458134, -0.17654139],\n",
       "       [ 3.10795345,  3.53085509],\n",
       "       [ 3.0192048 ,  1.19961925],\n",
       "       [-0.30158113,  2.86054269]])"
      ]
     },
     "execution_count": 31,
     "metadata": {},
     "output_type": "execute_result"
    }
   ],
   "source": [
    "X_mine = training_set.iloc[0:201, [0,1]].values\n",
    "omega = training_set.iloc[0:201, 2].values\n",
    "X_mine"
   ]
  },
  {
   "cell_type": "code",
   "execution_count": null,
   "metadata": {
    "collapsed": true
   },
   "outputs": [],
   "source": []
  },
  {
   "cell_type": "code",
   "execution_count": null,
   "metadata": {
    "collapsed": true
   },
   "outputs": [],
   "source": []
  },
  {
   "cell_type": "code",
   "execution_count": null,
   "metadata": {
    "collapsed": true
   },
   "outputs": [],
   "source": []
  },
  {
   "cell_type": "code",
   "execution_count": null,
   "metadata": {
    "collapsed": true
   },
   "outputs": [],
   "source": []
  },
  {
   "cell_type": "code",
   "execution_count": null,
   "metadata": {
    "collapsed": true
   },
   "outputs": [],
   "source": []
  },
  {
   "cell_type": "code",
   "execution_count": null,
   "metadata": {
    "collapsed": true
   },
   "outputs": [],
   "source": []
  },
  {
   "cell_type": "code",
   "execution_count": null,
   "metadata": {
    "collapsed": true
   },
   "outputs": [],
   "source": []
  },
  {
   "cell_type": "code",
   "execution_count": null,
   "metadata": {
    "collapsed": true
   },
   "outputs": [],
   "source": []
  },
  {
   "cell_type": "code",
   "execution_count": null,
   "metadata": {
    "collapsed": true
   },
   "outputs": [],
   "source": []
  },
  {
   "cell_type": "code",
   "execution_count": null,
   "metadata": {
    "collapsed": true
   },
   "outputs": [],
   "source": []
  },
  {
   "cell_type": "code",
   "execution_count": null,
   "metadata": {
    "collapsed": true
   },
   "outputs": [],
   "source": []
  },
  {
   "cell_type": "code",
   "execution_count": null,
   "metadata": {
    "collapsed": true
   },
   "outputs": [],
   "source": []
  },
  {
   "cell_type": "code",
   "execution_count": null,
   "metadata": {
    "collapsed": true
   },
   "outputs": [],
   "source": []
  },
  {
   "cell_type": "code",
   "execution_count": null,
   "metadata": {
    "collapsed": true
   },
   "outputs": [],
   "source": []
  },
  {
   "cell_type": "code",
   "execution_count": null,
   "metadata": {
    "collapsed": true
   },
   "outputs": [],
   "source": []
  },
  {
   "cell_type": "code",
   "execution_count": null,
   "metadata": {
    "collapsed": true
   },
   "outputs": [],
   "source": []
  },
  {
   "cell_type": "code",
   "execution_count": null,
   "metadata": {
    "collapsed": true
   },
   "outputs": [],
   "source": []
  },
  {
   "cell_type": "code",
   "execution_count": 83,
   "metadata": {},
   "outputs": [
    {
     "ename": "SyntaxError",
     "evalue": "invalid syntax (<ipython-input-83-bbf341a61331>, line 27)",
     "output_type": "error",
     "traceback": [
      "\u001b[0;36m  File \u001b[0;32m\"<ipython-input-83-bbf341a61331>\"\u001b[0;36m, line \u001b[0;32m27\u001b[0m\n\u001b[0;31m    else if (update != 0.0 and target == 2):\u001b[0m\n\u001b[0m          ^\u001b[0m\n\u001b[0;31mSyntaxError\u001b[0m\u001b[0;31m:\u001b[0m invalid syntax\n"
     ]
    }
   ],
   "source": [
    "import numpy as np\n",
    "\n",
    "class Perceptron(object):\n",
    "\n",
    "    def __init__(self, eta=0.01, epochs=50):\n",
    "        self.eta = eta\n",
    "        self.epochs = epochs\n",
    "\n",
    "    def train(self, X, y):\n",
    "\n",
    "        self.w_ = np.zeros(1 + X.shape[1])\n",
    "        self.errors_ = []\n",
    "        self.misclass1 = 0\n",
    "        self.misclass2 = 0\n",
    "        \n",
    "        for _ in range(self.epochs):\n",
    "            errors = 0\n",
    "            \n",
    "            for xi, target in zip(X, y):\n",
    "                update = self.eta * (target - self.predict(xi))\n",
    "                \n",
    "                if(update != 0.0 and target == 1):\n",
    "                    self.w_[1:] +=  update * xi\n",
    "                    self.w_[0] +=  update\n",
    "                    self.misclass1 += 1\n",
    "\n",
    "                else if (update != 0.0 and target == 2):\n",
    "                    self.w_[1:] +=  update * xi  * 0.01\n",
    "                    self.w_[0] +=  update * 0.01\n",
    "                    self.misclass2 += 1\n",
    "                    \n",
    "                errors += int(update != 0.0)\n",
    "            self.errors_.append(errors)\n",
    "        return self\n",
    "\n",
    "    def net_input(self, X):\n",
    "        return np.dot(X, self.w_[1:]) + self.w_[0]\n",
    "\n",
    "    def predict(self, X):\n",
    "        return np.where(self.net_input(X) >= 0.0, 1, -1)"
   ]
  },
  {
   "cell_type": "code",
   "execution_count": 84,
   "metadata": {},
   "outputs": [
    {
     "name": "stdout",
     "output_type": "stream",
     "text": [
      "Weights: [ 0.282      -0.12397828 -0.11295047]\n"
     ]
    },
    {
     "data": {
      "image/png": "[encoded data removed]",
      "text/plain": [
       "<matplotlib.figure.Figure at 0xceab9b0>"
      ]
     },
     "metadata": {},
     "output_type": "display_data"
    },
    {
     "data": {
      "image/png": "[encoded data removed]",
      "text/plain": [
       "<matplotlib.figure.Figure at 0xcfa1048>"
      ]
     },
     "metadata": {},
     "output_type": "display_data"
    },
    {
     "name": "stdout",
     "output_type": "stream",
     "text": [
      "Guessed class 1 (1) wrong: 81, Guessed class 2 (-1) wrong: 19919\n"
     ]
    }
   ],
   "source": [
    "%matplotlib inline\n",
    "import matplotlib.pyplot as plt\n",
    "from mlxtend.plotting import plot_decision_regions\n",
    "\n",
    "ppn = Perceptron(epochs=100, eta=0.1)\n",
    "\n",
    "ppn.train(X_mine, omega)\n",
    "print('Weights: %s' % ppn.w_)\n",
    "plot_decision_regions(X_mine, omega, clf=ppn)\n",
    "plt.title('Perceptron')\n",
    "plt.xlabel('sepal length [cm]')\n",
    "plt.ylabel('petal length [cm]')\n",
    "plt.show()\n",
    "\n",
    "plt.plot(range(1, len(ppn.errors_)+1), ppn.errors_, marker='o')\n",
    "plt.xlabel('Iterations')\n",
    "plt.ylabel('Misclassifications')\n",
    "plt.show()\n",
    "\n",
    "print(\"Guessed class 1 (1) wrong: {0}, Guessed class 2 (-1) wrong: {1}\".format(ppn.misclass1, ppn.misclass2))"
   ]
  },
  {
   "cell_type": "code",
   "execution_count": null,
   "metadata": {},
   "outputs": [],
   "source": []
  },
  {
   "cell_type": "code",
   "execution_count": null,
   "metadata": {},
   "outputs": [],
   "source": []
  },
  {
   "cell_type": "code",
   "execution_count": null,
   "metadata": {
    "collapsed": true
   },
   "outputs": [],
   "source": []
  },
  {
   "cell_type": "code",
   "execution_count": null,
   "metadata": {
    "collapsed": true
   },
   "outputs": [],
   "source": []
  },
  {
   "cell_type": "code",
   "execution_count": null,
   "metadata": {
    "collapsed": true
   },
   "outputs": [],
   "source": []
  },
  {
   "cell_type": "code",
   "execution_count": null,
   "metadata": {
    "collapsed": true
   },
   "outputs": [],
   "source": []
  },
  {
   "cell_type": "code",
   "execution_count": null,
   "metadata": {
    "collapsed": true
   },
   "outputs": [],
   "source": []
  },
  {
   "cell_type": "code",
   "execution_count": null,
   "metadata": {
    "collapsed": true
   },
   "outputs": [],
   "source": []
  },
  {
   "cell_type": "code",
   "execution_count": 68,
   "metadata": {},
   "outputs": [],
   "source": [
    "import pandas as pd\n",
    "df = pd.read_csv('https://archive.ics.uci.edu/ml/machine-learning-databases/iris/iris.data', header=None)\n",
    "\n",
    "# setosa and versicolor\n",
    "y = df.iloc[0:100, 4].values\n",
    "y = np.where(y == 'Iris-setosa', -1, 1)\n",
    "\n",
    "# sepal length and petal length\n",
    "X = df.iloc[0:100, [0,2]].values\n",
    "\n"
   ]
  },
  {
   "cell_type": "code",
   "execution_count": null,
   "metadata": {
    "collapsed": true
   },
   "outputs": [],
   "source": []
  },
  {
   "cell_type": "code",
   "execution_count": null,
   "metadata": {
    "collapsed": true
   },
   "outputs": [],
   "source": []
  },
  {
   "cell_type": "code",
   "execution_count": null,
   "metadata": {
    "collapsed": true
   },
   "outputs": [],
   "source": []
  },
  {
   "cell_type": "code",
   "execution_count": null,
   "metadata": {
    "collapsed": true
   },
   "outputs": [],
   "source": []
  },
  {
   "cell_type": "code",
   "execution_count": null,
   "metadata": {
    "collapsed": true
   },
   "outputs": [],
   "source": []
  },
  {
   "cell_type": "code",
   "execution_count": null,
   "metadata": {
    "collapsed": true
   },
   "outputs": [],
   "source": []
  },
  {
   "cell_type": "code",
   "execution_count": null,
   "metadata": {
    "collapsed": true
   },
   "outputs": [],
   "source": []
  },
  {
   "cell_type": "code",
   "execution_count": null,
   "metadata": {
    "collapsed": true
   },
   "outputs": [],
   "source": []
  }
 ],
 "metadata": {
  "kernelspec": {
   "display_name": "Python 3",
   "language": "python",
   "name": "python3"
  },
  "language_info": {
   "codemirror_mode": {
    "name": "ipython",
    "version": 3
   },
   "file_extension": ".py",
   "mimetype": "text/x-python",
   "name": "python",
   "nbconvert_exporter": "python",
   "pygments_lexer": "ipython3",
   "version": "3.7.1"
  }
 },
 "nbformat": 4,
 "nbformat_minor": 2
}
