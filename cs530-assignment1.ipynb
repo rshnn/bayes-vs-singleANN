{
 "cells": [
  {
   "cell_type": "markdown",
   "metadata": {},
   "source": [
    "# CS530 - Principles of AI \n",
    "### Roshan Patel\n",
    "Assignment 1  \n",
    "2017-10-03\n"
   ]
  },
  {
   "cell_type": "code",
   "execution_count": 1,
   "metadata": {
    "collapsed": false
   },
   "outputs": [
    {
     "name": "stdout",
     "output_type": "stream",
     "text": [
      "This jupyter notebook was executed with:\n",
      "3.6.0 |Anaconda 4.3.1 (64-bit)| (default, Dec 23 2016, 11:57:41) [MSC v.1900 64 bit (AMD64)]\n"
     ]
    }
   ],
   "source": [
    "import sys\n",
    "ver_info = sys.version\n",
    "print(\"This jupyter notebook was executed with:\\n{0}\".format(ver_info));"
   ]
  },
  {
   "cell_type": "markdown",
   "metadata": {},
   "source": [
    "## Problem Statement\n",
    "\n",
    "Solve the following discrimination problem analytically and then write a program to input 100 data points sampled from each class distribution (using a random number generator), classifying them,  and computing the empirical error rate for each class, together with the average error rate for both classes using \n",
    "1. the training sample as the testing sample; and then using   \n",
    "2. a leaving-one-out method comparing the following types of classifiers:  \n",
    "    a. Naive Bayesian Classifier  \n",
    "    b) One layer ANN\n",
    "\n",
    "Two features:  N(mean,variance) = Normal distribution of variable with mean and variance as indicated for the specified parameters\n",
    "\n",
    "P(x<sub>1</sub> | w<sub>1</sub>) = N (0, 1)\n",
    "\n",
    "P(x<sub>1</sub> | w<sub>2</sub>) = N (1, 2)\n",
    "\n",
    "P(x<sub>2</sub> | w<sub>1</sub>) = N (0,1)\n",
    "\n",
    "P(x<sub>2</sub> | w<sub>2</sub>) = N (1, 2)\n",
    "\n",
    "Under three very different assumptions about the prior probabilities of w1 and w2:\n",
    "\n",
    "A. Class 1 P(w<sub>1</sub>)  = 0.9 and Class 2 P(w<sub>2</sub>) = 0.1  \n",
    "B. Class 1 P(w<sub>1</sub>) =  0.1 and Class 2 P(w<sub>2</sub>) = 0.9  \n",
    "C. Class 1 P(w<sub>1</sub>) = 0.5 and Class 2 P(w<sub>2</sub>) = 0.5  \n",
    "\n",
    "\n",
    "Graph the analytic solution and superimpose for both discriminants the results for the 200 points of both classes so as to show the differences in results for the two types of classifiers and the three variations in prior probabilities. Plot the error rate estimates for both types of estimates for the three types of error rates (individual classes and average) separately so as to show the contrasts there.\n",
    "\n",
    "Choose carefully how you summarize both graphically and in writing the comparisons so as to show the contrast between the different results.\n",
    "\n",
    "Explain in a long paragraph or half a page what this simple analytical example demonstrates for practical prediction problems\n",
    "\n",
    " \n",
    "\n"
   ]
  },
  {
   "cell_type": "markdown",
   "metadata": {},
   "source": [
    "---"
   ]
  },
  {
   "cell_type": "markdown",
   "metadata": {},
   "source": [
    "## Sample distribution  \n",
    "\n",
    "A sample distribution of 200 points (100 per class) will be generated using the numpy.random package's uniform distribution sampler. "
   ]
  },
  {
   "cell_type": "code",
   "execution_count": 2,
   "metadata": {
    "collapsed": true
   },
   "outputs": [],
   "source": [
    "# Package imports\n",
    "import numpy as np\n",
    "import pandas as pd\n",
    "import matplotlib as mpl\n",
    "import seaborn as sns \n",
    "import matplotlib.pyplot as plt\n",
    "%matplotlib inline\n"
   ]
  },
  {
   "cell_type": "code",
   "execution_count": 3,
   "metadata": {
    "collapsed": false
   },
   "outputs": [],
   "source": [
    "def generate_sample_set(mu, variance, priors):\n",
    "    uniform_rands = [np.zeros(4)]*4\n",
    "\n",
    "    for i in range(4):\n",
    "        if i in (0, 2):\n",
    "            set_size = SAMPLE_SET_SIZE*priors[0]\n",
    "        else: \n",
    "            set_size = SAMPLE_SET_SIZE*priors[1]\n",
    "        uniform_rands[i] = np.random.normal(mu[i], variance[i], int(set_size)) \n",
    "\n",
    "        headers = \"x1 x2 class\".split()\n",
    "    class1 = pd.DataFrame({'x1': uniform_rands[0], 'x2': uniform_rands[2], \n",
    "                          'class': 'w1'}, columns=headers)\n",
    "    class2 = pd.DataFrame({'x1': uniform_rands[1], 'x2': uniform_rands[3], \n",
    "                          'class': 'w2'}, columns=headers)\n",
    "    class2.index=class2.index+int(SAMPLE_SET_SIZE/2)\n",
    "\n",
    "    return pd.concat([class1, class2])\n",
    "\n",
    "\n",
    "\n",
    "# Sample set parameters  \n",
    "SAMPLE_SET_SIZE = 100\n",
    "mu = [0, 1, 0, 1]\n",
    "variance = [1, 2, 1, 2]\n",
    "priors = [0.5, 0.5]\n",
    "\n",
    "\n",
    "# Linearlly separable sample set \n",
    "# mu = [0, 4, 0, 4]\n",
    "# variance = [1, 1, 1, 1]\n",
    "\n",
    "\n",
    "\n",
    "sample_set = generate_sample_set(mu, variance, priors)"
   ]
  },
  {
   "cell_type": "code",
   "execution_count": 4,
   "metadata": {
    "collapsed": false
   },
   "outputs": [
    {
     "data": {
      "text/plain": [
       "<seaborn.axisgrid.FacetGrid at 0xc1d2320>"
      ]
     },
     "execution_count": 4,
     "metadata": {},
     "output_type": "execute_result"
    },
    {
     "data": {
      "image/png": "[encoded data removed]",
      "text/plain": [
       "<matplotlib.figure.Figure at 0xc1d2c18>"
      ]
     },
     "metadata": {},
     "output_type": "display_data"
    }
   ],
   "source": [
    "colors = {'w1':'green', 'w2':'blue'}\n",
    "g = sns.FacetGrid(sample_set, hue='class', palette=colors, size=5)\n",
    "g.map(plt.scatter,'x1', 'x2', alpha=0.4, linewidth=0.5, edgecolor='white')\n",
    "g.add_legend()\n"
   ]
  },
  {
   "cell_type": "markdown",
   "metadata": {},
   "source": [
    "The plot above shows the fake sampled data.  There are 200 points, half of which belong to class w1 and the other half belong to class w2."
   ]
  },
  {
   "cell_type": "code",
   "execution_count": 5,
   "metadata": {
    "collapsed": false
   },
   "outputs": [
    {
     "name": "stderr",
     "output_type": "stream",
     "text": [
      "C:\\ProgramData\\Anaconda3\\lib\\site-packages\\statsmodels\\nonparametric\\kdetools.py:20: VisibleDeprecationWarning: using a non-integer number instead of an integer will result in an error in the future\n",
      "  y = X[:m/2+1] + np.r_[0,X[m/2+1:],0]*1j\n"
     ]
    },
    {
     "data": {
      "text/plain": [
       "<seaborn.axisgrid.PairGrid at 0xc1d22e8>"
      ]
     },
     "execution_count": 5,
     "metadata": {},
     "output_type": "execute_result"
    },
    {
     "data": {
      "image/png": "[encoded data removed]",
      "text/plain": [
       "<matplotlib.figure.Figure at 0xc1d2160>"
      ]
     },
     "metadata": {},
     "output_type": "display_data"
    }
   ],
   "source": [
    "g = sns.PairGrid(sample_set, hue='class')\n",
    "g.map_diag(sns.distplot, kde=True, rug=True)\n",
    "g.map_offdiag(plt.scatter, alpha=0.8,s=15)\n",
    "g.add_legend()             \n"
   ]
  },
  {
   "cell_type": "markdown",
   "metadata": {},
   "source": [
    "As a sanity check, I verified the distribution of the fake sampled data visually in the plots above.  The diagonal shows histograms and density estimate functions for feature x1 in figure (1,1) and x2 in figure (2,2).  The estimate density function should roughly mimick the type of normal distributions specified in the problem statement.  This does, indeed, seem to be the case.\n",
    "\n",
    "\n"
   ]
  },
  {
   "cell_type": "markdown",
   "metadata": {},
   "source": [
    "# Naive Bayesian Classifier "
   ]
  },
  {
   "cell_type": "code",
   "execution_count": null,
   "metadata": {
    "collapsed": true
   },
   "outputs": [],
   "source": []
  },
  {
   "cell_type": "markdown",
   "metadata": {},
   "source": [
    "# Single Layer ANN"
   ]
  },
  {
   "cell_type": "code",
   "execution_count": null,
   "metadata": {
    "collapsed": true
   },
   "outputs": [],
   "source": []
  },
  {
   "cell_type": "code",
   "execution_count": 6,
   "metadata": {
    "collapsed": false
   },
   "outputs": [],
   "source": [
    "# Implementing single layer ANN class\n",
    "# Simple perceptron learning rule using a unit-step function for each neuron's activation function \n",
    "\n",
    "\n",
    "class singleLayerANN(object):\n",
    "    \n",
    "    def __init__(self, learning_rate=0.1, cycles=50):\n",
    "        self.learning_rate = learning_rate\n",
    "        self.cycles = cycles\n",
    "\n",
    "        \n",
    "    def train_on_sample(self, X, omega, cost):\n",
    "        \n",
    "        self.w_ = np.zeros(X.shape[1] + 1)\n",
    "        self.error = []\n",
    "        self.misclass1 = 0\n",
    "        self.misclass2 = 0\n",
    "        self.correct1 = 0\n",
    "        self.correct2 = 0\n",
    "        \n",
    "        for _ in range(self.cycles):\n",
    "            cycle_error = 0\n",
    "\n",
    "            \n",
    "            for x_i, target in zip(X, omega):\n",
    "                deltaWeight = self.learning_rate * (target - self.predict(x_i))\n",
    "                \n",
    "                \n",
    "                if(deltaWeight != 0.0 and target == 1):\n",
    "                    # Guessed class 2, target was class 1\n",
    "                    self.w_[1:] += deltaWeight * x_i * cost[0]\n",
    "                    self.w_[0] += deltaWeight * cost[0]\n",
    "                    self.misclass1 += 1\n",
    "                elif(deltaWeight != 0.0 and target == -1):\n",
    "                    # Guessed class 1, target was class 2\n",
    "                    self.w_[1:] += deltaWeight * x_i * cost[1]\n",
    "                    self.w_[0] += deltaWeight * cost[1]\n",
    "                    self.misclass2 += 1\n",
    "                elif(deltaWeight == 0.0 and target == 1):\n",
    "                    # Guessed class 1 correctly \n",
    "                    self.correct1 += 1\n",
    "                elif(deltaWeight == 0.0 and target == -1):\n",
    "                    # Guessed class 2 correctly \n",
    "                    self.correct2 += 1\n",
    "                else:\n",
    "                    self.w_[1:] += deltaWeight * x_i\n",
    "                    self.w_[0] += deltaWeight \n",
    "                    self.correct += 1\n",
    "                \n",
    "                cycle_error += int(deltaWeight != 0.0)\n",
    "            \n",
    "            self.error.append(cycle_error)\n",
    "    \n",
    "        return self\n",
    "    \n",
    "    \n",
    "    def predict(self, X):\n",
    "        return np.where(self.linear_sum(X) >= 0.0, 1, -1)\n",
    "        \n",
    "        \n",
    "    def linear_sum(self, X):\n",
    "        return np.dot(X, self.w_[1:]) + self.w_[0]\n",
    "        "
   ]
  },
  {
   "cell_type": "markdown",
   "metadata": {},
   "source": [
    "## 1.  sample_set = training_set\n",
    "+ Using the entire sample_set (200 points) to create the ANN classifer."
   ]
  },
  {
   "cell_type": "code",
   "execution_count": 7,
   "metadata": {
    "collapsed": false
   },
   "outputs": [],
   "source": [
    "# Replace the class string with integer values (1 for class omega_1 and -1 for class omega_2)\n",
    "training_set = pd.DataFrame.copy(sample_set)\n",
    "training_set['class'] = training_set['class'].replace('w1', 1)\n",
    "training_set['class'] = training_set['class'].replace('w2', -1)\n"
   ]
  },
  {
   "cell_type": "code",
   "execution_count": 8,
   "metadata": {
    "collapsed": false
   },
   "outputs": [
    {
     "name": "stdout",
     "output_type": "stream",
     "text": [
      "The resulting weight vector: [ 2.24       -1.318552   -0.67666868]\n",
      "Guessed class 1 (1) wrong: 152\t\tRight: 9948\n",
      "Guessed class 2 (-1) wrong: 7488\tRight : 2612\n",
      "Correct: 9948\n"
     ]
    },
    {
     "data": {
      "image/png": "[encoded data removed]",
      "text/plain": [
       "<matplotlib.figure.Figure at 0xd216ef0>"
      ]
     },
     "metadata": {},
     "output_type": "display_data"
    },
    {
     "data": {
      "image/png": "[encoded data removed]",
      "text/plain": [
       "<matplotlib.figure.Figure at 0xd216f98>"
      ]
     },
     "metadata": {},
     "output_type": "display_data"
    }
   ],
   "source": [
    "%matplotlib inline\n",
    "import matplotlib.pyplot as plt\n",
    "from mlxtend.plotting import plot_decision_regions\n",
    "\n",
    "X = training_set.iloc[0:SAMPLE_SET_SIZE+1, [0, 1]].values\n",
    "omega = training_set.iloc[0:SAMPLE_SET_SIZE+1, 2].values\n",
    "\n",
    "\n",
    "LEARNING_RATE = 0.01\n",
    "CYCLES = 101\n",
    "# [error of misclassing true class 1, error of misclassing true class 2]\n",
    "errcost = [50, 1]\n",
    "\n",
    "slANN = singleLayerANN(learning_rate=LEARNING_RATE, cycles=int(CYCLES))\n",
    "slANN.train_on_sample(X=X, omega=omega, cost=errcost)\n",
    "\n",
    "print(\"The resulting weight vector: {0}\".format(slANN.w_))\n",
    "print(\"Guessed class 1 (1) wrong: {0}\\t\\tRight: {2}\\nGuessed class 2 (-1) wrong: {1}\\tRight : {3}\\nCorrect: {2}\"\n",
    "      .format(slANN.misclass1, slANN.misclass2, slANN.correct1, slANN.correct2))\n",
    "\n",
    "plot_decision_regions(X, omega, clf=slANN)\n",
    "plt.title('Single Layer ANN - learning_rate={0}, cycles={1}'.format(LEARNING_RATE, CYCLES))\n",
    "plt.xlabel('x1')\n",
    "plt.ylabel('x2')\n",
    "plt.show()\n",
    "\n",
    "plt.plot(range(1, len(slANN.error)+1), slANN.error, marker='o')\n",
    "plt.xlabel('Iterations')\n",
    "plt.ylabel('Misclassifications')\n",
    "plt.show()\n",
    "\n"
   ]
  },
  {
   "cell_type": "code",
   "execution_count": 20,
   "metadata": {
    "collapsed": false
   },
   "outputs": [],
   "source": [
    "from sklearn.model_selection import LeaveOneOut\n",
    "\n",
    "def loo_cross_validation(sample_set, learning_rate, cycles, errocost):\n",
    "    loo = LeaveOneOut()\n",
    "    correctclass1 = correctclass2 = incorrectclass1 = incorrectclass2 = 0\n",
    "\n",
    "    training_set = pd.DataFrame.copy(sample_set)\n",
    "    training_set['class'] = training_set['class'].replace('w1', 1)\n",
    "    training_set['class'] = training_set['class'].replace('w2', -1)\n",
    "    \n",
    "    loo.get_n_splits(training_set)\n",
    "\n",
    "    for train_index, test_index in loo.split(training_set):\n",
    "    #     print(\"train index: {0}, test index: {1}\".format(train_index, test_index))\n",
    "\n",
    "        loo_training_set = training_set.drop(test_index)   \n",
    "        X = loo_training_set.iloc[0:SAMPLE_SET_SIZE, [0, 1]].values\n",
    "        omega = loo_training_set.iloc[0:SAMPLE_SET_SIZE, 2].values\n",
    "\n",
    "        LEARNING_RATE = 0.01\n",
    "        CYCLES = 101\n",
    "        # [error of misclassing true class 1, error of misclassing true class 2]\n",
    "        errcost = [50, 1]\n",
    "\n",
    "        slANN = singleLayerANN(learning_rate=LEARNING_RATE, cycles=int(CYCLES))\n",
    "        slANN.train_on_sample(X=X, omega=omega, cost=errcost)\n",
    "\n",
    "\n",
    "\n",
    "        testpoint = training_set.iloc[test_index[0]]\n",
    "        testval = slANN.predict([testpoint['x1'], testpoint['x2']])\n",
    "        if testval == testpoint['class'] == 1.0:\n",
    "            correctclass1 += 1\n",
    "        elif testval == testpoint['class'] == -1.0:\n",
    "            correctclass2 += 1\n",
    "        elif testval != testpoint['class'] and testpoint['class'] == 1.0:\n",
    "            incorrectclass1 += 1\n",
    "        elif testval != testpoint['class'] and testpoint['class'] == -1.0:\n",
    "            incorrectclass2 += 1\n",
    "        \n",
    "        print(\"Completed slANN cross-validation for {0}\".format(test_index))\n",
    "\n",
    "    return correctclass1, correctclass2, incorrectclass1, incorrectclass2\n",
    "\n"
   ]
  },
  {
   "cell_type": "code",
   "execution_count": 21,
   "metadata": {
    "collapsed": false
   },
   "outputs": [
    {
     "name": "stdout",
     "output_type": "stream",
     "text": [
      "Completed slANN cross-validation for [0]\n",
      "Completed slANN cross-validation for [1]\n",
      "Completed slANN cross-validation for [2]\n",
      "Completed slANN cross-validation for [3]\n",
      "Completed slANN cross-validation for [4]\n",
      "Completed slANN cross-validation for [5]\n",
      "Completed slANN cross-validation for [6]\n",
      "Completed slANN cross-validation for [7]\n",
      "Completed slANN cross-validation for [8]\n",
      "Completed slANN cross-validation for [9]\n",
      "Completed slANN cross-validation for [10]\n",
      "Completed slANN cross-validation for [11]\n",
      "Completed slANN cross-validation for [12]\n",
      "Completed slANN cross-validation for [13]\n",
      "Completed slANN cross-validation for [14]\n",
      "Completed slANN cross-validation for [15]\n",
      "Completed slANN cross-validation for [16]\n",
      "Completed slANN cross-validation for [17]\n",
      "Completed slANN cross-validation for [18]\n",
      "Completed slANN cross-validation for [19]\n",
      "Completed slANN cross-validation for [20]\n",
      "Completed slANN cross-validation for [21]\n",
      "Completed slANN cross-validation for [22]\n",
      "Completed slANN cross-validation for [23]\n",
      "Completed slANN cross-validation for [24]\n",
      "Completed slANN cross-validation for [25]\n",
      "Completed slANN cross-validation for [26]\n",
      "Completed slANN cross-validation for [27]\n",
      "Completed slANN cross-validation for [28]\n",
      "Completed slANN cross-validation for [29]\n",
      "Completed slANN cross-validation for [30]\n",
      "Completed slANN cross-validation for [31]\n",
      "Completed slANN cross-validation for [32]\n",
      "Completed slANN cross-validation for [33]\n",
      "Completed slANN cross-validation for [34]\n",
      "Completed slANN cross-validation for [35]\n",
      "Completed slANN cross-validation for [36]\n",
      "Completed slANN cross-validation for [37]\n",
      "Completed slANN cross-validation for [38]\n",
      "Completed slANN cross-validation for [39]\n",
      "Completed slANN cross-validation for [40]\n",
      "Completed slANN cross-validation for [41]\n",
      "Completed slANN cross-validation for [42]\n",
      "Completed slANN cross-validation for [43]\n",
      "Completed slANN cross-validation for [44]\n",
      "Completed slANN cross-validation for [45]\n",
      "Completed slANN cross-validation for [46]\n",
      "Completed slANN cross-validation for [47]\n",
      "Completed slANN cross-validation for [48]\n",
      "Completed slANN cross-validation for [49]\n",
      "Completed slANN cross-validation for [50]\n",
      "Completed slANN cross-validation for [51]\n",
      "Completed slANN cross-validation for [52]\n",
      "Completed slANN cross-validation for [53]\n",
      "Completed slANN cross-validation for [54]\n",
      "Completed slANN cross-validation for [55]\n",
      "Completed slANN cross-validation for [56]\n",
      "Completed slANN cross-validation for [57]\n",
      "Completed slANN cross-validation for [58]\n",
      "Completed slANN cross-validation for [59]\n",
      "Completed slANN cross-validation for [60]\n",
      "Completed slANN cross-validation for [61]\n",
      "Completed slANN cross-validation for [62]\n",
      "Completed slANN cross-validation for [63]\n",
      "Completed slANN cross-validation for [64]\n",
      "Completed slANN cross-validation for [65]\n",
      "Completed slANN cross-validation for [66]\n",
      "Completed slANN cross-validation for [67]\n",
      "Completed slANN cross-validation for [68]\n",
      "Completed slANN cross-validation for [69]\n",
      "Completed slANN cross-validation for [70]\n",
      "Completed slANN cross-validation for [71]\n",
      "Completed slANN cross-validation for [72]\n",
      "Completed slANN cross-validation for [73]\n",
      "Completed slANN cross-validation for [74]\n",
      "Completed slANN cross-validation for [75]\n",
      "Completed slANN cross-validation for [76]\n",
      "Completed slANN cross-validation for [77]\n",
      "Completed slANN cross-validation for [78]\n",
      "Completed slANN cross-validation for [79]\n",
      "Completed slANN cross-validation for [80]\n",
      "Completed slANN cross-validation for [81]\n",
      "Completed slANN cross-validation for [82]\n",
      "Completed slANN cross-validation for [83]\n",
      "Completed slANN cross-validation for [84]\n",
      "Completed slANN cross-validation for [85]\n",
      "Completed slANN cross-validation for [86]\n",
      "Completed slANN cross-validation for [87]\n",
      "Completed slANN cross-validation for [88]\n",
      "Completed slANN cross-validation for [89]\n",
      "Completed slANN cross-validation for [90]\n",
      "Completed slANN cross-validation for [91]\n",
      "Completed slANN cross-validation for [92]\n",
      "Completed slANN cross-validation for [93]\n",
      "Completed slANN cross-validation for [94]\n",
      "Completed slANN cross-validation for [95]\n",
      "Completed slANN cross-validation for [96]\n",
      "Completed slANN cross-validation for [97]\n",
      "Completed slANN cross-validation for [98]\n",
      "Completed slANN cross-validation for [99]\n",
      "Completed slANN cross-validation for [100]\n",
      "Completed slANN cross-validation for [101]\n",
      "Completed slANN cross-validation for [102]\n",
      "Completed slANN cross-validation for [103]\n",
      "Completed slANN cross-validation for [104]\n",
      "Completed slANN cross-validation for [105]\n",
      "Completed slANN cross-validation for [106]\n",
      "Completed slANN cross-validation for [107]\n",
      "Completed slANN cross-validation for [108]\n",
      "Completed slANN cross-validation for [109]\n",
      "Completed slANN cross-validation for [110]\n",
      "Completed slANN cross-validation for [111]\n",
      "Completed slANN cross-validation for [112]\n",
      "Completed slANN cross-validation for [113]\n",
      "Completed slANN cross-validation for [114]\n",
      "Completed slANN cross-validation for [115]\n",
      "Completed slANN cross-validation for [116]\n",
      "Completed slANN cross-validation for [117]\n",
      "Completed slANN cross-validation for [118]\n",
      "Completed slANN cross-validation for [119]\n",
      "Completed slANN cross-validation for [120]\n",
      "Completed slANN cross-validation for [121]\n",
      "Completed slANN cross-validation for [122]\n",
      "Completed slANN cross-validation for [123]\n",
      "Completed slANN cross-validation for [124]\n",
      "Completed slANN cross-validation for [125]\n",
      "Completed slANN cross-validation for [126]\n",
      "Completed slANN cross-validation for [127]\n",
      "Completed slANN cross-validation for [128]\n",
      "Completed slANN cross-validation for [129]\n",
      "Completed slANN cross-validation for [130]\n",
      "Completed slANN cross-validation for [131]\n",
      "Completed slANN cross-validation for [132]\n",
      "Completed slANN cross-validation for [133]\n",
      "Completed slANN cross-validation for [134]\n",
      "Completed slANN cross-validation for [135]\n",
      "Completed slANN cross-validation for [136]\n",
      "Completed slANN cross-validation for [137]\n",
      "Completed slANN cross-validation for [138]\n",
      "Completed slANN cross-validation for [139]\n",
      "Completed slANN cross-validation for [140]\n",
      "Completed slANN cross-validation for [141]\n",
      "Completed slANN cross-validation for [142]\n",
      "Completed slANN cross-validation for [143]\n",
      "Completed slANN cross-validation for [144]\n",
      "Completed slANN cross-validation for [145]\n",
      "Completed slANN cross-validation for [146]\n",
      "Completed slANN cross-validation for [147]\n",
      "Completed slANN cross-validation for [148]\n",
      "Completed slANN cross-validation for [149]\n",
      "Completed slANN cross-validation for [150]\n",
      "Completed slANN cross-validation for [151]\n",
      "Completed slANN cross-validation for [152]\n",
      "Completed slANN cross-validation for [153]\n",
      "Completed slANN cross-validation for [154]\n",
      "Completed slANN cross-validation for [155]\n",
      "Completed slANN cross-validation for [156]\n",
      "Completed slANN cross-validation for [157]\n",
      "Completed slANN cross-validation for [158]\n",
      "Completed slANN cross-validation for [159]\n",
      "Completed slANN cross-validation for [160]\n",
      "Completed slANN cross-validation for [161]\n",
      "Completed slANN cross-validation for [162]\n",
      "Completed slANN cross-validation for [163]\n",
      "Completed slANN cross-validation for [164]\n",
      "Completed slANN cross-validation for [165]\n",
      "Completed slANN cross-validation for [166]\n",
      "Completed slANN cross-validation for [167]\n",
      "Completed slANN cross-validation for [168]\n",
      "Completed slANN cross-validation for [169]\n",
      "Completed slANN cross-validation for [170]\n",
      "Completed slANN cross-validation for [171]\n",
      "Completed slANN cross-validation for [172]\n",
      "Completed slANN cross-validation for [173]\n",
      "Completed slANN cross-validation for [174]\n",
      "Completed slANN cross-validation for [175]\n",
      "Completed slANN cross-validation for [176]\n",
      "Completed slANN cross-validation for [177]\n",
      "Completed slANN cross-validation for [178]\n",
      "Completed slANN cross-validation for [179]\n",
      "Completed slANN cross-validation for [180]\n",
      "Completed slANN cross-validation for [181]\n",
      "Completed slANN cross-validation for [182]\n",
      "Completed slANN cross-validation for [183]\n",
      "Completed slANN cross-validation for [184]\n",
      "Completed slANN cross-validation for [185]\n",
      "Completed slANN cross-validation for [186]\n",
      "Completed slANN cross-validation for [187]\n",
      "Completed slANN cross-validation for [188]\n",
      "Completed slANN cross-validation for [189]\n",
      "Completed slANN cross-validation for [190]\n",
      "Completed slANN cross-validation for [191]\n",
      "Completed slANN cross-validation for [192]\n",
      "Completed slANN cross-validation for [193]\n",
      "Completed slANN cross-validation for [194]\n",
      "Completed slANN cross-validation for [195]\n",
      "Completed slANN cross-validation for [196]\n",
      "Completed slANN cross-validation for [197]\n",
      "Completed slANN cross-validation for [198]\n",
      "Completed slANN cross-validation for [199]\n"
     ]
    }
   ],
   "source": [
    "LEARNING_RATE = 0.01\n",
    "CYCLES = 101\n",
    "# [error of misclassing true class 1, error of misclassing true class 2]\n",
    "errcost = [50, 1]\n",
    "\n",
    "c1, c2, inc1, inc2 = loo_cross_validation(sample_set, LEARNING_RATE, CYCLES, errcost)\n"
   ]
  },
  {
   "cell_type": "code",
   "execution_count": 10,
   "metadata": {
    "collapsed": false
   },
   "outputs": [
    {
     "data": {
      "text/plain": [
       "0.95756087357907482"
      ]
     },
     "execution_count": 10,
     "metadata": {},
     "output_type": "execute_result"
    }
   ],
   "source": [
    "training_set.iloc[10]['x2']"
   ]
  },
  {
   "cell_type": "code",
   "execution_count": null,
   "metadata": {
    "collapsed": true
   },
   "outputs": [],
   "source": [
    "c2"
   ]
  },
  {
   "cell_type": "code",
   "execution_count": null,
   "metadata": {
    "collapsed": true
   },
   "outputs": [],
   "source": []
  },
  {
   "cell_type": "code",
   "execution_count": null,
   "metadata": {
    "collapsed": true
   },
   "outputs": [],
   "source": []
  },
  {
   "cell_type": "code",
   "execution_count": null,
   "metadata": {
    "collapsed": true
   },
   "outputs": [],
   "source": []
  },
  {
   "cell_type": "code",
   "execution_count": null,
   "metadata": {
    "collapsed": true
   },
   "outputs": [],
   "source": []
  },
  {
   "cell_type": "code",
   "execution_count": null,
   "metadata": {
    "collapsed": true
   },
   "outputs": [],
   "source": []
  },
  {
   "cell_type": "code",
   "execution_count": 11,
   "metadata": {
    "collapsed": true
   },
   "outputs": [],
   "source": [
    "# How to plot line using weights from perceptron \n",
    "\n",
    "\n",
    "# A = slANN.w_[0]\n",
    "# B = slANN.w_[1]\n",
    "# C = slANN.w_[2]\n",
    "\n",
    "# pies = np.linspace(-7, 7) \n",
    "# skies = (A + B*pies)/(-C)\n",
    "# plt.plot(pies, skies, 'ro')"
   ]
  },
  {
   "cell_type": "code",
   "execution_count": null,
   "metadata": {
    "collapsed": true
   },
   "outputs": [],
   "source": []
  },
  {
   "cell_type": "code",
   "execution_count": null,
   "metadata": {
    "collapsed": true
   },
   "outputs": [],
   "source": []
  },
  {
   "cell_type": "code",
   "execution_count": null,
   "metadata": {
    "collapsed": true
   },
   "outputs": [],
   "source": []
  },
  {
   "cell_type": "code",
   "execution_count": null,
   "metadata": {
    "collapsed": true
   },
   "outputs": [],
   "source": []
  },
  {
   "cell_type": "code",
   "execution_count": null,
   "metadata": {
    "collapsed": true
   },
   "outputs": [],
   "source": []
  }
 ],
 "metadata": {
  "kernelspec": {
   "display_name": "Python 3",
   "language": "python",
   "name": "python3"
  },
  "language_info": {
   "codemirror_mode": {
    "name": "ipython",
    "version": 3
   },
   "file_extension": ".py",
   "mimetype": "text/x-python",
   "name": "python",
   "nbconvert_exporter": "python",
   "pygments_lexer": "ipython3",
   "version": "3.6.0"
  }
 },
 "nbformat": 4,
 "nbformat_minor": 2
}
